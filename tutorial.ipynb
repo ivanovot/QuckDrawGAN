{
 "cells": [
  {
   "cell_type": "markdown",
   "metadata": {},
   "source": [
    "# Импорт модуля"
   ]
  },
  {
   "cell_type": "code",
   "execution_count": 1,
   "metadata": {},
   "outputs": [],
   "source": [
    "import QuckDrawGAN as qd"
   ]
  },
  {
   "cell_type": "markdown",
   "metadata": {},
   "source": [
    "# Обучение модели"
   ]
  },
  {
   "cell_type": "code",
   "execution_count": null,
   "metadata": {},
   "outputs": [],
   "source": [
    "qd.train(\n",
    "    epochs=3, # рекомендовано 100 эпох\n",
    "    batch_size=64,\n",
    "    data_path='duck.ndjson',\n",
    "    output_path = 'output',\n",
    "    lr_g = 0.001,\n",
    "    lr_d = 0.002,\n",
    "    data_max_size = 30000,\n",
    ")"
   ]
  },
  {
   "cell_type": "markdown",
   "metadata": {},
   "source": [
    "# Дообучение дискриминатора"
   ]
  },
  {
   "cell_type": "code",
   "execution_count": null,
   "metadata": {},
   "outputs": [],
   "source": [
    "qd.discriminator_fine_tune(generator_file = 'output/models/generator.pt', \n",
    "                           discriminator_file = 'output/models/discriminator.pt', \n",
    "                           data_path = 'duck.ndjson', \n",
    "                           batch_size=64, \n",
    "                           fine_tune_epochs=3, # рекомендовано 15 эпох\n",
    "                           lr_d=0.005, \n",
    "                           data_max_size=None)"
   ]
  },
  {
   "cell_type": "markdown",
   "metadata": {},
   "source": [
    "# Загрузка моделей"
   ]
  },
  {
   "cell_type": "code",
   "execution_count": 2,
   "metadata": {},
   "outputs": [],
   "source": [
    "generator_file = r'pretrained_output/models/generator.pt'  # Замените на ваш путь к файлу генератора\n",
    "discriminator_file = r'pretrained_output/models/discriminator_fine_tuned.pt'  # Замените на ваш путь к файлу дискриминатора, если он есть\n",
    "\n",
    "# Создаем объект модели\n",
    "model = qd.Model(generator_file, discriminator_file)"
   ]
  },
  {
   "cell_type": "markdown",
   "metadata": {},
   "source": [
    "# Генерация изобраэения"
   ]
  },
  {
   "cell_type": "code",
   "execution_count": 3,
   "metadata": {},
   "outputs": [
    {
     "data": {
      "image/png": "[encoded data removed]",
      "text/plain": [
       "<Figure size 640x480 with 1 Axes>"
      ]
     },
     "metadata": {},
     "output_type": "display_data"
    }
   ],
   "source": [
    "import matplotlib.pyplot as plt\n",
    "\n",
    "# Генерация изображения\n",
    "best_image = model.generate(16)  # Генерируем одно изображение\n",
    "\n",
    "# Отображение изображения\n",
    "plt.imshow(best_image, cmap='gray')  # Передаем только изображение\n",
    "plt.axis('off')  # Скрываем оси\n",
    "plt.show()"
   ]
  }
 ],
 "metadata": {
  "kernelspec": {
   "display_name": "venv",
   "language": "python",
   "name": "python3"
  },
  "language_info": {
   "codemirror_mode": {
    "name": "ipython",
    "version": 3
   },
   "file_extension": ".py",
   "mimetype": "text/x-python",
   "name": "python",
   "nbconvert_exporter": "python",
   "pygments_lexer": "ipython3",
   "version": "3.12.4"
  }
 },
 "nbformat": 4,
 "nbformat_minor": 2
}
